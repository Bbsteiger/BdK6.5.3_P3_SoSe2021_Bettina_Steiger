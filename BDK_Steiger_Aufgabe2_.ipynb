{
 "cells": [
  {
   "cell_type": "markdown",
   "metadata": {},
   "source": [
    "# Internet Movie Database\n",
    "##### Die Internet Movie Database ist eine Datenbank, die Informationen zu Filmen, Fernsehserien, Videoproduktionen und  Computerspielen verzeichnet, außerdem zu den Personen, die in diesen mitgewirkt haben. Die Datenbank ist seit 1990 online und gehört zu Amazon, außerdem umfasst sie mehr als 18 Millionen Einträge. Im Folgenden werde ich das Datenset „title.basics.tsv.gz“ nutzen, um einige Informationen zu analysieren und zu visualisieren. Das Datenset enthält Titelinformationen, zum Beispiel Angaben zum Populären Titel, dem Originaltitel, das Genre oder das Veröffentlichungsjahr. Als erstes importiere ich die nötigen Daten und lasse sie mir tabellarisch anzeigen, um zu sehen, welche möglichen Fragestellungen sich daraus ableiten lassen."
   ]
  },
  {
   "cell_type": "code",
   "execution_count": 2,
   "metadata": {},
   "outputs": [],
   "source": [
    "import pandas as pd\n",
    "import seaborn as sns\n",
    "import matplotlib.pyplot as plt"
   ]
  },
  {
   "cell_type": "code",
   "execution_count": 3,
   "metadata": {},
   "outputs": [],
   "source": [
    "url = \"https://datasets.imdbws.com/title.basics.tsv.gz\""
   ]
  },
  {
   "cell_type": "code",
   "execution_count": 8,
   "metadata": {},
   "outputs": [],
   "source": [
    "imdb = pd.read_csv(url, sep=\"\\t\", dtype={'isAdult': 'str', 'startYear': 'str', 'endYear': 'str'})"
   ]
  },
  {
   "cell_type": "code",
   "execution_count": 9,
   "metadata": {},
   "outputs": [
    {
     "data": {
      "text/plain": [
       "(8265931, 9)"
      ]
     },
     "execution_count": 9,
     "metadata": {},
     "output_type": "execute_result"
    }
   ],
   "source": [
    "imdb.shape"
   ]
  },
  {
   "cell_type": "code",
   "execution_count": 10,
   "metadata": {},
   "outputs": [
    {
     "data": {
      "text/html": [
       "<div>\n",
       "<style scoped>\n",
       "    .dataframe tbody tr th:only-of-type {\n",
       "        vertical-align: middle;\n",
       "    }\n",
       "\n",
       "    .dataframe tbody tr th {\n",
       "        vertical-align: top;\n",
       "    }\n",
       "\n",
       "    .dataframe thead th {\n",
       "        text-align: right;\n",
       "    }\n",
       "</style>\n",
       "<table border=\"1\" class=\"dataframe\">\n",
       "  <thead>\n",
       "    <tr style=\"text-align: right;\">\n",
       "      <th></th>\n",
       "      <th>tconst</th>\n",
       "      <th>titleType</th>\n",
       "      <th>primaryTitle</th>\n",
       "      <th>originalTitle</th>\n",
       "      <th>isAdult</th>\n",
       "      <th>startYear</th>\n",
       "      <th>endYear</th>\n",
       "      <th>runtimeMinutes</th>\n",
       "      <th>genres</th>\n",
       "    </tr>\n",
       "  </thead>\n",
       "  <tbody>\n",
       "    <tr>\n",
       "      <th>0</th>\n",
       "      <td>tt0000001</td>\n",
       "      <td>short</td>\n",
       "      <td>Carmencita</td>\n",
       "      <td>Carmencita</td>\n",
       "      <td>0</td>\n",
       "      <td>1894</td>\n",
       "      <td>\\N</td>\n",
       "      <td>1</td>\n",
       "      <td>Documentary,Short</td>\n",
       "    </tr>\n",
       "    <tr>\n",
       "      <th>1</th>\n",
       "      <td>tt0000002</td>\n",
       "      <td>short</td>\n",
       "      <td>Le clown et ses chiens</td>\n",
       "      <td>Le clown et ses chiens</td>\n",
       "      <td>0</td>\n",
       "      <td>1892</td>\n",
       "      <td>\\N</td>\n",
       "      <td>5</td>\n",
       "      <td>Animation,Short</td>\n",
       "    </tr>\n",
       "    <tr>\n",
       "      <th>2</th>\n",
       "      <td>tt0000003</td>\n",
       "      <td>short</td>\n",
       "      <td>Pauvre Pierrot</td>\n",
       "      <td>Pauvre Pierrot</td>\n",
       "      <td>0</td>\n",
       "      <td>1892</td>\n",
       "      <td>\\N</td>\n",
       "      <td>4</td>\n",
       "      <td>Animation,Comedy,Romance</td>\n",
       "    </tr>\n",
       "    <tr>\n",
       "      <th>3</th>\n",
       "      <td>tt0000004</td>\n",
       "      <td>short</td>\n",
       "      <td>Un bon bock</td>\n",
       "      <td>Un bon bock</td>\n",
       "      <td>0</td>\n",
       "      <td>1892</td>\n",
       "      <td>\\N</td>\n",
       "      <td>12</td>\n",
       "      <td>Animation,Short</td>\n",
       "    </tr>\n",
       "    <tr>\n",
       "      <th>4</th>\n",
       "      <td>tt0000005</td>\n",
       "      <td>short</td>\n",
       "      <td>Blacksmith Scene</td>\n",
       "      <td>Blacksmith Scene</td>\n",
       "      <td>0</td>\n",
       "      <td>1893</td>\n",
       "      <td>\\N</td>\n",
       "      <td>1</td>\n",
       "      <td>Comedy,Short</td>\n",
       "    </tr>\n",
       "    <tr>\n",
       "      <th>...</th>\n",
       "      <td>...</td>\n",
       "      <td>...</td>\n",
       "      <td>...</td>\n",
       "      <td>...</td>\n",
       "      <td>...</td>\n",
       "      <td>...</td>\n",
       "      <td>...</td>\n",
       "      <td>...</td>\n",
       "      <td>...</td>\n",
       "    </tr>\n",
       "    <tr>\n",
       "      <th>8265926</th>\n",
       "      <td>tt9916848</td>\n",
       "      <td>tvEpisode</td>\n",
       "      <td>Episode #3.17</td>\n",
       "      <td>Episode #3.17</td>\n",
       "      <td>0</td>\n",
       "      <td>2010</td>\n",
       "      <td>\\N</td>\n",
       "      <td>\\N</td>\n",
       "      <td>Action,Drama,Family</td>\n",
       "    </tr>\n",
       "    <tr>\n",
       "      <th>8265927</th>\n",
       "      <td>tt9916850</td>\n",
       "      <td>tvEpisode</td>\n",
       "      <td>Episode #3.19</td>\n",
       "      <td>Episode #3.19</td>\n",
       "      <td>0</td>\n",
       "      <td>2010</td>\n",
       "      <td>\\N</td>\n",
       "      <td>\\N</td>\n",
       "      <td>Action,Drama,Family</td>\n",
       "    </tr>\n",
       "    <tr>\n",
       "      <th>8265928</th>\n",
       "      <td>tt9916852</td>\n",
       "      <td>tvEpisode</td>\n",
       "      <td>Episode #3.20</td>\n",
       "      <td>Episode #3.20</td>\n",
       "      <td>0</td>\n",
       "      <td>2010</td>\n",
       "      <td>\\N</td>\n",
       "      <td>\\N</td>\n",
       "      <td>Action,Drama,Family</td>\n",
       "    </tr>\n",
       "    <tr>\n",
       "      <th>8265929</th>\n",
       "      <td>tt9916856</td>\n",
       "      <td>short</td>\n",
       "      <td>The Wind</td>\n",
       "      <td>The Wind</td>\n",
       "      <td>0</td>\n",
       "      <td>2015</td>\n",
       "      <td>\\N</td>\n",
       "      <td>27</td>\n",
       "      <td>Short</td>\n",
       "    </tr>\n",
       "    <tr>\n",
       "      <th>8265930</th>\n",
       "      <td>tt9916880</td>\n",
       "      <td>tvEpisode</td>\n",
       "      <td>Horrid Henry Knows It All</td>\n",
       "      <td>Horrid Henry Knows It All</td>\n",
       "      <td>0</td>\n",
       "      <td>2014</td>\n",
       "      <td>\\N</td>\n",
       "      <td>10</td>\n",
       "      <td>Animation,Comedy,Family</td>\n",
       "    </tr>\n",
       "  </tbody>\n",
       "</table>\n",
       "<p>8265931 rows × 9 columns</p>\n",
       "</div>"
      ],
      "text/plain": [
       "            tconst  titleType               primaryTitle  \\\n",
       "0        tt0000001      short                 Carmencita   \n",
       "1        tt0000002      short     Le clown et ses chiens   \n",
       "2        tt0000003      short             Pauvre Pierrot   \n",
       "3        tt0000004      short                Un bon bock   \n",
       "4        tt0000005      short           Blacksmith Scene   \n",
       "...            ...        ...                        ...   \n",
       "8265926  tt9916848  tvEpisode              Episode #3.17   \n",
       "8265927  tt9916850  tvEpisode              Episode #3.19   \n",
       "8265928  tt9916852  tvEpisode              Episode #3.20   \n",
       "8265929  tt9916856      short                   The Wind   \n",
       "8265930  tt9916880  tvEpisode  Horrid Henry Knows It All   \n",
       "\n",
       "                     originalTitle isAdult startYear endYear runtimeMinutes  \\\n",
       "0                       Carmencita       0      1894      \\N              1   \n",
       "1           Le clown et ses chiens       0      1892      \\N              5   \n",
       "2                   Pauvre Pierrot       0      1892      \\N              4   \n",
       "3                      Un bon bock       0      1892      \\N             12   \n",
       "4                 Blacksmith Scene       0      1893      \\N              1   \n",
       "...                            ...     ...       ...     ...            ...   \n",
       "8265926              Episode #3.17       0      2010      \\N             \\N   \n",
       "8265927              Episode #3.19       0      2010      \\N             \\N   \n",
       "8265928              Episode #3.20       0      2010      \\N             \\N   \n",
       "8265929                   The Wind       0      2015      \\N             27   \n",
       "8265930  Horrid Henry Knows It All       0      2014      \\N             10   \n",
       "\n",
       "                           genres  \n",
       "0               Documentary,Short  \n",
       "1                 Animation,Short  \n",
       "2        Animation,Comedy,Romance  \n",
       "3                 Animation,Short  \n",
       "4                    Comedy,Short  \n",
       "...                           ...  \n",
       "8265926       Action,Drama,Family  \n",
       "8265927       Action,Drama,Family  \n",
       "8265928       Action,Drama,Family  \n",
       "8265929                     Short  \n",
       "8265930   Animation,Comedy,Family  \n",
       "\n",
       "[8265931 rows x 9 columns]"
      ]
     },
     "execution_count": 10,
     "metadata": {},
     "output_type": "execute_result"
    }
   ],
   "source": [
    "imdb"
   ]
  },
  {
   "cell_type": "markdown",
   "metadata": {},
   "source": [
    "##### Bei den angegebenen Informationen stellen sich mir direkt einige Fragen, welche ich gerne genauer untersuchen möchte. Zunächst interessiert mich die Entwicklung der Anzahl der Film-/Serienproduktionen der letzten Jahre. Meine Hypothese ist, dass die Veröffentlichungszahlen kontinuierlich ansteigen, aber wahrscheinlich in 2020/2021 Corona bedingt einen Einbruch der Veröffentlichungszahlen aufweisen werden. Deswegen lasse ich mir zunächst die Veröffentlichungen pro Jahr tabellarisch ausgeben. Um es aber übersichtlicher nachzuvollziehen, werden nur die letzten 20 Jahre im Diagramm dargestellt."
   ]
  },
  {
   "cell_type": "code",
   "execution_count": 68,
   "metadata": {},
   "outputs": [],
   "source": [
    "years = {}\n",
    "for year in sorted(list(imdb.startYear)):\n",
    "  amount = years.get(year, 0)\n",
    "  years[year] = amount + 1"
   ]
  },
  {
   "cell_type": "code",
   "execution_count": 69,
   "metadata": {},
   "outputs": [
    {
     "data": {
      "text/plain": [
       "{'1874': 1,\n",
       " '1877': 1,\n",
       " '1878': 2,\n",
       " '1881': 2,\n",
       " '1882': 1,\n",
       " '1883': 1,\n",
       " '1885': 1,\n",
       " '1887': 45,\n",
       " '1888': 5,\n",
       " '1889': 2,\n",
       " '1890': 6,\n",
       " '1891': 10,\n",
       " '1892': 9,\n",
       " '1893': 3,\n",
       " '1894': 99,\n",
       " '1895': 115,\n",
       " '1896': 851,\n",
       " '1897': 1363,\n",
       " '1898': 1796,\n",
       " '1899': 1818,\n",
       " '1900': 1860,\n",
       " '1901': 1767,\n",
       " '1902': 1808,\n",
       " '1903': 2676,\n",
       " '1904': 1837,\n",
       " '1905': 1704,\n",
       " '1906': 1861,\n",
       " '1907': 2489,\n",
       " '1908': 4283,\n",
       " '1909': 5434,\n",
       " '1910': 6412,\n",
       " '1911': 7709,\n",
       " '1912': 8724,\n",
       " '1913': 9773,\n",
       " '1914': 9348,\n",
       " '1915': 8572,\n",
       " '1916': 7055,\n",
       " '1917': 5621,\n",
       " '1918': 4739,\n",
       " '1919': 4147,\n",
       " '1920': 4536,\n",
       " '1921': 4229,\n",
       " '1922': 3602,\n",
       " '1923': 3041,\n",
       " '1924': 3095,\n",
       " '1925': 3391,\n",
       " '1926': 3404,\n",
       " '1927': 3520,\n",
       " '1928': 3501,\n",
       " '1929': 3652,\n",
       " '1930': 3191,\n",
       " '1931': 3293,\n",
       " '1932': 3080,\n",
       " '1933': 2915,\n",
       " '1934': 2991,\n",
       " '1935': 2907,\n",
       " '1936': 3362,\n",
       " '1937': 3591,\n",
       " '1938': 3427,\n",
       " '1939': 3038,\n",
       " '1940': 2623,\n",
       " '1941': 2500,\n",
       " '1942': 2417,\n",
       " '1943': 2206,\n",
       " '1944': 2042,\n",
       " '1945': 2055,\n",
       " '1946': 2563,\n",
       " '1947': 2966,\n",
       " '1948': 3651,\n",
       " '1949': 4995,\n",
       " '1950': 7349,\n",
       " '1951': 8814,\n",
       " '1952': 9391,\n",
       " '1953': 9785,\n",
       " '1954': 11768,\n",
       " '1955': 12888,\n",
       " '1956': 12858,\n",
       " '1957': 14508,\n",
       " '1958': 15332,\n",
       " '1959': 15692,\n",
       " '1960': 16714,\n",
       " '1961': 17211,\n",
       " '1962': 16713,\n",
       " '1963': 19066,\n",
       " '1964': 20428,\n",
       " '1965': 23512,\n",
       " '1966': 25116,\n",
       " '1967': 26502,\n",
       " '1968': 25501,\n",
       " '1969': 28808,\n",
       " '1970': 28497,\n",
       " '1971': 29709,\n",
       " '1972': 30109,\n",
       " '1973': 31031,\n",
       " '1974': 29477,\n",
       " '1975': 29876,\n",
       " '1976': 29767,\n",
       " '1977': 28975,\n",
       " '1978': 30035,\n",
       " '1979': 29736,\n",
       " '1980': 31325,\n",
       " '1981': 30559,\n",
       " '1982': 34217,\n",
       " '1983': 34628,\n",
       " '1984': 36538,\n",
       " '1985': 37602,\n",
       " '1986': 37581,\n",
       " '1987': 40173,\n",
       " '1988': 39775,\n",
       " '1989': 42876,\n",
       " '1990': 46141,\n",
       " '1991': 48040,\n",
       " '1992': 49482,\n",
       " '1993': 54280,\n",
       " '1994': 58927,\n",
       " '1995': 66249,\n",
       " '1996': 69578,\n",
       " '1997': 74366,\n",
       " '1998': 83253,\n",
       " '1999': 88186,\n",
       " '2000': 90854,\n",
       " '2001': 100019,\n",
       " '2002': 103469,\n",
       " '2003': 115939,\n",
       " '2004': 134236,\n",
       " '2005': 147908,\n",
       " '2006': 164429,\n",
       " '2007': 182563,\n",
       " '2008': 197335,\n",
       " '2009': 208777,\n",
       " '2010': 237442,\n",
       " '2011': 269453,\n",
       " '2012': 299583,\n",
       " '2013': 320665,\n",
       " '2014': 341549,\n",
       " '2015': 358808,\n",
       " '2016': 378948,\n",
       " '2017': 400172,\n",
       " '2018': 403851,\n",
       " '2019': 386384,\n",
       " '2020': 355084,\n",
       " '2021': 244504,\n",
       " '2022': 8084,\n",
       " '2023': 526,\n",
       " '2024': 97,\n",
       " '2025': 18,\n",
       " '2026': 11,\n",
       " '2027': 7,\n",
       " '2028': 3,\n",
       " '\\\\N': 976535}"
      ]
     },
     "execution_count": 69,
     "metadata": {},
     "output_type": "execute_result"
    }
   ],
   "source": [
    "years"
   ]
  },
  {
   "cell_type": "code",
   "execution_count": 70,
   "metadata": {},
   "outputs": [
    {
     "data": {
      "text/plain": [
       "<AxesSubplot:>"
      ]
     },
     "execution_count": 70,
     "metadata": {},
     "output_type": "execute_result"
    },
    {
     "data": {
      "image/png": "[encoded data removed]",
      "text/plain": [
       "<Figure size 432x288 with 1 Axes>"
      ]
     },
     "metadata": {
      "needs_background": "light"
     },
     "output_type": "display_data"
    }
   ],
   "source": [
    "table = {'title': list(years.keys())[-30:-8], 'amount': list(years.values())[-30:-8]}\n",
    "sns.barplot(y=\"title\", x=\"amount\", data=table)"
   ]
  },
  {
   "cell_type": "markdown",
   "metadata": {},
   "source": [
    "##### Die Wachstumskurve verzeichnet einen kontinuierlichen Anstieg vom Jahr 2000 – 2018. Entgegen meiner Erwartungen fallen die Zahlen bereits im Jahr 2019 rapide ab und sinken bis 2021 weiter. Ob Corona für den Fall im Jahr 2019 verantwortlich ist, lässt sich nicht sagen, aber es ist auf jeden Fall spannend zu sehen wie rasant sich diese Branche in den letzten zwei Jahrzehnten entwickelt hat. Anfang der 2000er lag die jährliche Veröffentlichung von Film- oder Serienproduktionen bei knapp 90.000 pro Jahr, während es 2018 um die 400.000 waren."
   ]
  },
  {
   "cell_type": "markdown",
   "metadata": {},
   "source": [
    "##### Des Weiteren hat mich interessiert welches Genre am stärksten in der IMDb vertreten ist. Eine konkrete Prognose konnte ich nicht treffen, aber fand es einfach spannend. Deswegen ließ ich mir zunächst die Genres in einer Liste ausgeben. Dort waren die Zahlen aber sehr nichts aussagend, weswegen ich eine visualisierte Ansicht hilfreicher fand, um die Zahlen miteinander zu vergleichen. Aus der Abbildung geht hervor, dass das Genre „Drama“ am stärksten vertreten ist. Das zweit häufigste Genre ist „Comedy“.  "
   ]
  },
  {
   "cell_type": "code",
   "execution_count": 33,
   "metadata": {
    "scrolled": true
   },
   "outputs": [],
   "source": [
    "genres = {}\n",
    "for line in imdb.genres:\n",
    "  for genre in str(line).split(','):\n",
    "    amount = genres.get(genre, 0)\n",
    "    genres[genre] = amount + 1  "
   ]
  },
  {
   "cell_type": "code",
   "execution_count": 32,
   "metadata": {},
   "outputs": [
    {
     "data": {
      "text/plain": [
       "[('Documentary', 769343),\n",
       " ('Short', 1026945),\n",
       " ('Animation', 408958),\n",
       " ('Comedy', 1664684),\n",
       " ('Romance', 729038),\n",
       " ('Sport', 180005),\n",
       " ('News', 531638),\n",
       " ('Drama', 2265980),\n",
       " ('Fantasy', 175165),\n",
       " ('Horror', 147186),\n",
       " ('Biography', 88182),\n",
       " ('Music', 396940),\n",
       " ('War', 29902),\n",
       " ('Crime', 353323),\n",
       " ('Western', 27947),\n",
       " ('Family', 576165),\n",
       " ('Adventure', 327684),\n",
       " ('Action', 335863),\n",
       " ('History', 115937),\n",
       " ('Mystery', 163283),\n",
       " ('\\\\N', 643495),\n",
       " ('Sci-Fi', 97045),\n",
       " ('Musical', 63520),\n",
       " ('Thriller', 135126),\n",
       " ('Film-Noir', 764),\n",
       " ('Talk-Show', 908931),\n",
       " ('Game-Show', 255791),\n",
       " ('Reality-TV', 427905),\n",
       " ('Adult', 245259),\n",
       " ('nan', 10)]"
      ]
     },
     "execution_count": 32,
     "metadata": {},
     "output_type": "execute_result"
    }
   ],
   "source": [
    "list(genres.items())"
   ]
  },
  {
   "cell_type": "code",
   "execution_count": 27,
   "metadata": {},
   "outputs": [],
   "source": [
    "table = {'title': list(genres.keys()), 'amount': list(genres.values())}"
   ]
  },
  {
   "cell_type": "code",
   "execution_count": 28,
   "metadata": {},
   "outputs": [
    {
     "data": {
      "text/plain": [
       "<AxesSubplot:>"
      ]
     },
     "execution_count": 28,
     "metadata": {},
     "output_type": "execute_result"
    },
    {
     "data": {
      "image/png": "[encoded data removed]",
      "text/plain": [
       "<Figure size 432x288 with 1 Axes>"
      ]
     },
     "metadata": {
      "needs_background": "light"
     },
     "output_type": "display_data"
    }
   ],
   "source": [
    "sns.barplot(y=\"title\", x=\"amount\", data=table)"
   ]
  },
  {
   "cell_type": "markdown",
   "metadata": {},
   "source": [
    "##### Als letztes hat mich interessiert, wie das Verhältnis zwischen den verschiedenen Erscheinungsformen ist. Überwiegen Filme, was der Titel der Datenbank suggeriert oder liegt ein anderes Format vorne? Daraufhin habe ich zunächst einmal festgestellt welche Formate in der IMDb vorliegen. Danach welche wie oft vorhanden sind. Die Visualisierung war in diesem Fall nicht so einfach, da eine Erscheinungsform viel mehr Einträge hatte, als die anderen, sodass die Darstellung sehr schwer zu lesen war. Demnach wurde das Diagramm „frisiert“, um leichter ablesen zu können welches wie viele Einträge hat. Es stellt aber eine verzerrte Wirklichkeit dar, da die Abstände geringer wirken als sie sind - ist aber eine gute Ergänzung zur Liste. Über die meisten Einträge verfügt das Format „TV Episoden“, dies macht auch Sinn, da Serien viele einzelne Folgen haben und so diese Filme klar überwiegen. "
   ]
  },
  {
   "cell_type": "code",
   "execution_count": 60,
   "metadata": {},
   "outputs": [
    {
     "data": {
      "text/plain": [
       "{'movie',\n",
       " 'radioEpisode',\n",
       " 'radioSeries',\n",
       " 'short',\n",
       " 'tvEpisode',\n",
       " 'tvMiniSeries',\n",
       " 'tvMovie',\n",
       " 'tvPilot',\n",
       " 'tvSeries',\n",
       " 'tvShort',\n",
       " 'tvSpecial',\n",
       " 'video',\n",
       " 'videoGame'}"
      ]
     },
     "execution_count": 60,
     "metadata": {},
     "output_type": "execute_result"
    }
   ],
   "source": [
    "set(imdb.titleType)"
   ]
  },
  {
   "cell_type": "code",
   "execution_count": 61,
   "metadata": {},
   "outputs": [],
   "source": [
    "titleTypes = {}\n",
    "for titleType in sorted(list(imdb.titleType)):\n",
    "  amount = titleTypes.get(titleType, 0)\n",
    "  titleTypes[titleType] = amount + 1"
   ]
  },
  {
   "cell_type": "code",
   "execution_count": 62,
   "metadata": {},
   "outputs": [
    {
     "data": {
      "text/plain": [
       "{'movie': 587868,\n",
       " 'radioEpisode': 1,\n",
       " 'radioSeries': 1,\n",
       " 'short': 830821,\n",
       " 'tvEpisode': 6064777,\n",
       " 'tvMiniSeries': 39733,\n",
       " 'tvMovie': 132943,\n",
       " 'tvPilot': 1,\n",
       " 'tvSeries': 214762,\n",
       " 'tvShort': 10276,\n",
       " 'tvSpecial': 34151,\n",
       " 'video': 321383,\n",
       " 'videoGame': 29214}"
      ]
     },
     "execution_count": 62,
     "metadata": {},
     "output_type": "execute_result"
    }
   ],
   "source": [
    "titleTypes"
   ]
  },
  {
   "cell_type": "code",
   "execution_count": 75,
   "metadata": {},
   "outputs": [
    {
     "data": {
      "text/plain": [
       "<AxesSubplot:>"
      ]
     },
     "execution_count": 75,
     "metadata": {},
     "output_type": "execute_result"
    },
    {
     "data": {
      "image/png": "[encoded data removed]",
      "text/plain": [
       "<Figure size 432x288 with 1 Axes>"
      ]
     },
     "metadata": {
      "needs_background": "light"
     },
     "output_type": "display_data"
    }
   ],
   "source": [
    "import math\n",
    "table = {'title': list(titleTypes.keys()), 'amount': [math.log(number, 10) for number in titleTypes.values()]}\n",
    "sns.barplot(y=\"title\", x=\"amount\", data=table)"
   ]
  },
  {
   "cell_type": "markdown",
   "metadata": {},
   "source": [
    "##### Abschließend lässt sich sagen, dass sich mit Python aus einem einzigen Datenset viel mehr Informationen filtern lassen als gedacht. Diese haben konkrete Fragen beantworten können und Rückschlüsse auf Entwicklungen geben können. Python bietet viele Möglichkeiten in der Analyse und Auswertung von Daten und ist ein sehr nützliches Tool."
   ]
  }
 ],
 "metadata": {
  "kernelspec": {
   "display_name": "Python 3",
   "language": "python",
   "name": "python3"
  },
  "language_info": {
   "codemirror_mode": {
    "name": "ipython",
    "version": 3
   },
   "file_extension": ".py",
   "mimetype": "text/x-python",
   "name": "python",
   "nbconvert_exporter": "python",
   "pygments_lexer": "ipython3",
   "version": "3.8.5"
  }
 },
 "nbformat": 4,
 "nbformat_minor": 4
}
