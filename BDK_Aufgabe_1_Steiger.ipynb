{
 "cells": [
  {
   "cell_type": "code",
   "execution_count": 2,
   "metadata": {},
   "outputs": [],
   "source": [
    "import urllib.request\n",
    "import json"
   ]
  },
  {
   "cell_type": "code",
   "execution_count": 3,
   "metadata": {},
   "outputs": [],
   "source": [
    "base_url = \"https://eutils.ncbi.nlm.nih.gov/entrez/eutils/esummary.fcgi?db=pubmed&retmode=json&id=\"\n",
    "pmid = \"27708327\"\n",
    "full_url = base_url + pmid"
   ]
  },
  {
   "cell_type": "code",
   "execution_count": 32,
   "metadata": {},
   "outputs": [
    {
     "name": "stdout",
     "output_type": "stream",
     "text": [
      "https://eutils.ncbi.nlm.nih.gov/entrez/eutils/esummary.fcgi?db=pubmed&retmode=json&id=31535994\n"
     ]
    }
   ],
   "source": [
    "print (full_url)"
   ]
  },
  {
   "cell_type": "code",
   "execution_count": 5,
   "metadata": {},
   "outputs": [],
   "source": [
    "doi_json_data = urllib.request.urlopen(full_url).read()"
   ]
  },
  {
   "cell_type": "code",
   "execution_count": 33,
   "metadata": {},
   "outputs": [
    {
     "name": "stdout",
     "output_type": "stream",
     "text": [
      "{'header': {'type': 'esummary', 'version': '0.3'}, 'result': {'uids': ['31535994'], '31535994': {'uid': '31535994', 'pubdate': '2019 Sep 16', 'epubdate': '2019 Sep 16', 'source': 'IEEE Trans Image Process', 'authors': [{'name': 'Liu C', 'authtype': 'Author', 'clusterid': ''}, {'name': 'Ding W', 'authtype': 'Author', 'clusterid': ''}, {'name': 'Yang J', 'authtype': 'Author', 'clusterid': ''}, {'name': 'Murino V', 'authtype': 'Author', 'clusterid': ''}, {'name': 'Zhang B', 'authtype': 'Author', 'clusterid': ''}, {'name': 'Han J', 'authtype': 'Author', 'clusterid': ''}, {'name': 'Guo G', 'authtype': 'Author', 'clusterid': ''}], 'lastauthor': 'Guo G', 'title': 'Aggregation Signature for Small Object Tracking.', 'sorttitle': 'aggregation signature for small object tracking', 'volume': '', 'issue': '', 'pages': '', 'lang': ['eng'], 'nlmuniqueid': '9886191', 'issn': '1057-7149', 'essn': '1941-0042', 'pubtype': ['Journal Article'], 'recordstatus': 'PubMed - as supplied by publisher', 'pubstatus': '10', 'articleids': [{'idtype': 'pubmed', 'idtypen': 1, 'value': '31535994'}, {'idtype': 'doi', 'idtypen': 3, 'value': '10.1109/TIP.2019.2940477'}, {'idtype': 'rid', 'idtypen': 8, 'value': '31535994'}, {'idtype': 'eid', 'idtypen': 8, 'value': '31535994'}], 'history': [{'pubstatus': 'entrez', 'date': '2019/09/20 06:00'}, {'pubstatus': 'pubmed', 'date': '2019/09/20 06:00'}, {'pubstatus': 'medline', 'date': '2019/09/20 06:00'}], 'references': [], 'attributes': ['Has Abstract'], 'pmcrefcount': '', 'fulljournalname': 'IEEE transactions on image processing : a publication of the IEEE Signal Processing Society', 'elocationid': 'doi: 10.1109/TIP.2019.2940477', 'doctype': 'citation', 'srccontriblist': [], 'booktitle': '', 'medium': '', 'edition': '', 'publisherlocation': '', 'publishername': '', 'srcdate': '', 'reportnumber': '', 'availablefromurl': '', 'locationlabel': '', 'doccontriblist': [], 'docdate': '', 'bookname': '', 'chapter': '', 'sortpubdate': '2019/09/16 00:00', 'sortfirstauthor': 'Liu C', 'vernaculartitle': ''}}}\n"
     ]
    }
   ],
   "source": [
    "print (doi_data)"
   ]
  },
  {
   "cell_type": "code",
   "execution_count": 6,
   "metadata": {},
   "outputs": [
    {
     "name": "stdout",
     "output_type": "stream",
     "text": [
      "b'{\"header\":{\"type\":\"esummary\",\"version\":\"0.3\"},\"result\":{\"uids\":[\"27708327\"],\"27708327\":{\"uid\":\"27708327\",\"pubdate\":\"2016 Oct 6\",\"epubdate\":\"\",\"source\":\"Nature\",\"authors\":[{\"name\":\"Perkel J\",\"authtype\":\"Author\",\"clusterid\":\"\"}],\"lastauthor\":\"Perkel J\",\"title\":\"Democratic databases: science on GitHub.\",\"sorttitle\":\"democratic databases science on github\",\"volume\":\"538\",\"issue\":\"7623\",\"pages\":\"127-128\",\"lang\":[\"eng\"],\"nlmuniqueid\":\"0410462\",\"issn\":\"0028-0836\",\"essn\":\"1476-4687\",\"pubtype\":[\"Journal Article\"],\"recordstatus\":\"PubMed - indexed for MEDLINE\",\"pubstatus\":\"4\",\"articleids\":[{\"idtype\":\"pubmed\",\"idtypen\":1,\"value\":\"27708327\"},{\"idtype\":\"pii\",\"idtypen\":4,\"value\":\"538127a\"},{\"idtype\":\"doi\",\"idtypen\":3,\"value\":\"10.1038/538127a\"},{\"idtype\":\"rid\",\"idtypen\":8,\"value\":\"27708327\"},{\"idtype\":\"eid\",\"idtypen\":8,\"value\":\"27708327\"}],\"history\":[{\"pubstatus\":\"entrez\",\"date\":\"2016/10/07 06:00\"},{\"pubstatus\":\"pubmed\",\"date\":\"2016/10/07 06:00\"},{\"pubstatus\":\"medline\",\"date\":\"2016/11/03 06:00\"}],\"references\":[{\"refsource\":\"Nature. 2016 Oct 31;539(7627):126\",\"reftype\":\"Erratum in\",\"pmid\":27808210,\"note\":\"\"}],\"attributes\":[],\"pmcrefcount\":11,\"fulljournalname\":\"Nature\",\"elocationid\":\"doi: 10.1038/538127a\",\"doctype\":\"citation\",\"srccontriblist\":[],\"booktitle\":\"\",\"medium\":\"\",\"edition\":\"\",\"publisherlocation\":\"\",\"publishername\":\"\",\"srcdate\":\"\",\"reportnumber\":\"\",\"availablefromurl\":\"\",\"locationlabel\":\"\",\"doccontriblist\":[],\"docdate\":\"\",\"bookname\":\"\",\"chapter\":\"\",\"sortpubdate\":\"2016/10/06 00:00\",\"sortfirstauthor\":\"Perkel J\",\"vernaculartitle\":\"\"}}}\\n'\n"
     ]
    }
   ],
   "source": [
    "print(doi_json_data)"
   ]
  },
  {
   "cell_type": "code",
   "execution_count": 13,
   "metadata": {},
   "outputs": [],
   "source": [
    "doi_data = json.loads(doi_json_data)"
   ]
  },
  {
   "cell_type": "code",
   "execution_count": 10,
   "metadata": {},
   "outputs": [
    {
     "data": {
      "text/plain": [
       "dict"
      ]
     },
     "execution_count": 10,
     "metadata": {},
     "output_type": "execute_result"
    }
   ],
   "source": [
    "type(doi_data)"
   ]
  },
  {
   "cell_type": "code",
   "execution_count": 14,
   "metadata": {},
   "outputs": [
    {
     "data": {
      "text/plain": [
       "dict_keys(['header', 'result'])"
      ]
     },
     "execution_count": 14,
     "metadata": {},
     "output_type": "execute_result"
    }
   ],
   "source": [
    "doi_data.keys()"
   ]
  },
  {
   "cell_type": "code",
   "execution_count": 15,
   "metadata": {
    "scrolled": true
   },
   "outputs": [
    {
     "data": {
      "text/plain": [
       "{'uids': ['27708327'],\n",
       " '27708327': {'uid': '27708327',\n",
       "  'pubdate': '2016 Oct 6',\n",
       "  'epubdate': '',\n",
       "  'source': 'Nature',\n",
       "  'authors': [{'name': 'Perkel J', 'authtype': 'Author', 'clusterid': ''}],\n",
       "  'lastauthor': 'Perkel J',\n",
       "  'title': 'Democratic databases: science on GitHub.',\n",
       "  'sorttitle': 'democratic databases science on github',\n",
       "  'volume': '538',\n",
       "  'issue': '7623',\n",
       "  'pages': '127-128',\n",
       "  'lang': ['eng'],\n",
       "  'nlmuniqueid': '0410462',\n",
       "  'issn': '0028-0836',\n",
       "  'essn': '1476-4687',\n",
       "  'pubtype': ['Journal Article'],\n",
       "  'recordstatus': 'PubMed - indexed for MEDLINE',\n",
       "  'pubstatus': '4',\n",
       "  'articleids': [{'idtype': 'pubmed', 'idtypen': 1, 'value': '27708327'},\n",
       "   {'idtype': 'pii', 'idtypen': 4, 'value': '538127a'},\n",
       "   {'idtype': 'doi', 'idtypen': 3, 'value': '10.1038/538127a'},\n",
       "   {'idtype': 'rid', 'idtypen': 8, 'value': '27708327'},\n",
       "   {'idtype': 'eid', 'idtypen': 8, 'value': '27708327'}],\n",
       "  'history': [{'pubstatus': 'entrez', 'date': '2016/10/07 06:00'},\n",
       "   {'pubstatus': 'pubmed', 'date': '2016/10/07 06:00'},\n",
       "   {'pubstatus': 'medline', 'date': '2016/11/03 06:00'}],\n",
       "  'references': [{'refsource': 'Nature. 2016 Oct 31;539(7627):126',\n",
       "    'reftype': 'Erratum in',\n",
       "    'pmid': 27808210,\n",
       "    'note': ''}],\n",
       "  'attributes': [],\n",
       "  'pmcrefcount': 11,\n",
       "  'fulljournalname': 'Nature',\n",
       "  'elocationid': 'doi: 10.1038/538127a',\n",
       "  'doctype': 'citation',\n",
       "  'srccontriblist': [],\n",
       "  'booktitle': '',\n",
       "  'medium': '',\n",
       "  'edition': '',\n",
       "  'publisherlocation': '',\n",
       "  'publishername': '',\n",
       "  'srcdate': '',\n",
       "  'reportnumber': '',\n",
       "  'availablefromurl': '',\n",
       "  'locationlabel': '',\n",
       "  'doccontriblist': [],\n",
       "  'docdate': '',\n",
       "  'bookname': '',\n",
       "  'chapter': '',\n",
       "  'sortpubdate': '2016/10/06 00:00',\n",
       "  'sortfirstauthor': 'Perkel J',\n",
       "  'vernaculartitle': ''}}"
      ]
     },
     "execution_count": 15,
     "metadata": {},
     "output_type": "execute_result"
    }
   ],
   "source": [
    "doi_data[\"result\"]"
   ]
  },
  {
   "cell_type": "code",
   "execution_count": 16,
   "metadata": {},
   "outputs": [
    {
     "data": {
      "text/plain": [
       "['27708327']"
      ]
     },
     "execution_count": 16,
     "metadata": {},
     "output_type": "execute_result"
    }
   ],
   "source": [
    "doi_data[\"result\"][\"uids\"]"
   ]
  },
  {
   "cell_type": "code",
   "execution_count": 17,
   "metadata": {},
   "outputs": [
    {
     "data": {
      "text/plain": [
       "dict_keys(['uids', '27708327'])"
      ]
     },
     "execution_count": 17,
     "metadata": {},
     "output_type": "execute_result"
    }
   ],
   "source": [
    "doi_data[\"result\"].keys()"
   ]
  },
  {
   "cell_type": "code",
   "execution_count": 18,
   "metadata": {},
   "outputs": [
    {
     "data": {
      "text/plain": [
       "'27708327'"
      ]
     },
     "execution_count": 18,
     "metadata": {},
     "output_type": "execute_result"
    }
   ],
   "source": [
    "doi_data[\"result\"][\"uids\"][0]"
   ]
  },
  {
   "cell_type": "code",
   "execution_count": 19,
   "metadata": {},
   "outputs": [],
   "source": [
    "uid = doi_data[\"result\"][\"uids\"][0]"
   ]
  },
  {
   "cell_type": "code",
   "execution_count": 20,
   "metadata": {
    "scrolled": true
   },
   "outputs": [
    {
     "data": {
      "text/plain": [
       "{'uid': '27708327',\n",
       " 'pubdate': '2016 Oct 6',\n",
       " 'epubdate': '',\n",
       " 'source': 'Nature',\n",
       " 'authors': [{'name': 'Perkel J', 'authtype': 'Author', 'clusterid': ''}],\n",
       " 'lastauthor': 'Perkel J',\n",
       " 'title': 'Democratic databases: science on GitHub.',\n",
       " 'sorttitle': 'democratic databases science on github',\n",
       " 'volume': '538',\n",
       " 'issue': '7623',\n",
       " 'pages': '127-128',\n",
       " 'lang': ['eng'],\n",
       " 'nlmuniqueid': '0410462',\n",
       " 'issn': '0028-0836',\n",
       " 'essn': '1476-4687',\n",
       " 'pubtype': ['Journal Article'],\n",
       " 'recordstatus': 'PubMed - indexed for MEDLINE',\n",
       " 'pubstatus': '4',\n",
       " 'articleids': [{'idtype': 'pubmed', 'idtypen': 1, 'value': '27708327'},\n",
       "  {'idtype': 'pii', 'idtypen': 4, 'value': '538127a'},\n",
       "  {'idtype': 'doi', 'idtypen': 3, 'value': '10.1038/538127a'},\n",
       "  {'idtype': 'rid', 'idtypen': 8, 'value': '27708327'},\n",
       "  {'idtype': 'eid', 'idtypen': 8, 'value': '27708327'}],\n",
       " 'history': [{'pubstatus': 'entrez', 'date': '2016/10/07 06:00'},\n",
       "  {'pubstatus': 'pubmed', 'date': '2016/10/07 06:00'},\n",
       "  {'pubstatus': 'medline', 'date': '2016/11/03 06:00'}],\n",
       " 'references': [{'refsource': 'Nature. 2016 Oct 31;539(7627):126',\n",
       "   'reftype': 'Erratum in',\n",
       "   'pmid': 27808210,\n",
       "   'note': ''}],\n",
       " 'attributes': [],\n",
       " 'pmcrefcount': 11,\n",
       " 'fulljournalname': 'Nature',\n",
       " 'elocationid': 'doi: 10.1038/538127a',\n",
       " 'doctype': 'citation',\n",
       " 'srccontriblist': [],\n",
       " 'booktitle': '',\n",
       " 'medium': '',\n",
       " 'edition': '',\n",
       " 'publisherlocation': '',\n",
       " 'publishername': '',\n",
       " 'srcdate': '',\n",
       " 'reportnumber': '',\n",
       " 'availablefromurl': '',\n",
       " 'locationlabel': '',\n",
       " 'doccontriblist': [],\n",
       " 'docdate': '',\n",
       " 'bookname': '',\n",
       " 'chapter': '',\n",
       " 'sortpubdate': '2016/10/06 00:00',\n",
       " 'sortfirstauthor': 'Perkel J',\n",
       " 'vernaculartitle': ''}"
      ]
     },
     "execution_count": 20,
     "metadata": {},
     "output_type": "execute_result"
    }
   ],
   "source": [
    "doi_data[\"result\"][\"27708327\"]"
   ]
  },
  {
   "cell_type": "code",
   "execution_count": 21,
   "metadata": {},
   "outputs": [
    {
     "data": {
      "text/plain": [
       "{'uid': '27708327',\n",
       " 'pubdate': '2016 Oct 6',\n",
       " 'epubdate': '',\n",
       " 'source': 'Nature',\n",
       " 'authors': [{'name': 'Perkel J', 'authtype': 'Author', 'clusterid': ''}],\n",
       " 'lastauthor': 'Perkel J',\n",
       " 'title': 'Democratic databases: science on GitHub.',\n",
       " 'sorttitle': 'democratic databases science on github',\n",
       " 'volume': '538',\n",
       " 'issue': '7623',\n",
       " 'pages': '127-128',\n",
       " 'lang': ['eng'],\n",
       " 'nlmuniqueid': '0410462',\n",
       " 'issn': '0028-0836',\n",
       " 'essn': '1476-4687',\n",
       " 'pubtype': ['Journal Article'],\n",
       " 'recordstatus': 'PubMed - indexed for MEDLINE',\n",
       " 'pubstatus': '4',\n",
       " 'articleids': [{'idtype': 'pubmed', 'idtypen': 1, 'value': '27708327'},\n",
       "  {'idtype': 'pii', 'idtypen': 4, 'value': '538127a'},\n",
       "  {'idtype': 'doi', 'idtypen': 3, 'value': '10.1038/538127a'},\n",
       "  {'idtype': 'rid', 'idtypen': 8, 'value': '27708327'},\n",
       "  {'idtype': 'eid', 'idtypen': 8, 'value': '27708327'}],\n",
       " 'history': [{'pubstatus': 'entrez', 'date': '2016/10/07 06:00'},\n",
       "  {'pubstatus': 'pubmed', 'date': '2016/10/07 06:00'},\n",
       "  {'pubstatus': 'medline', 'date': '2016/11/03 06:00'}],\n",
       " 'references': [{'refsource': 'Nature. 2016 Oct 31;539(7627):126',\n",
       "   'reftype': 'Erratum in',\n",
       "   'pmid': 27808210,\n",
       "   'note': ''}],\n",
       " 'attributes': [],\n",
       " 'pmcrefcount': 11,\n",
       " 'fulljournalname': 'Nature',\n",
       " 'elocationid': 'doi: 10.1038/538127a',\n",
       " 'doctype': 'citation',\n",
       " 'srccontriblist': [],\n",
       " 'booktitle': '',\n",
       " 'medium': '',\n",
       " 'edition': '',\n",
       " 'publisherlocation': '',\n",
       " 'publishername': '',\n",
       " 'srcdate': '',\n",
       " 'reportnumber': '',\n",
       " 'availablefromurl': '',\n",
       " 'locationlabel': '',\n",
       " 'doccontriblist': [],\n",
       " 'docdate': '',\n",
       " 'bookname': '',\n",
       " 'chapter': '',\n",
       " 'sortpubdate': '2016/10/06 00:00',\n",
       " 'sortfirstauthor': 'Perkel J',\n",
       " 'vernaculartitle': ''}"
      ]
     },
     "execution_count": 21,
     "metadata": {},
     "output_type": "execute_result"
    }
   ],
   "source": [
    "doi_data[\"result\"][uid]"
   ]
  },
  {
   "cell_type": "code",
   "execution_count": 22,
   "metadata": {},
   "outputs": [
    {
     "data": {
      "text/plain": [
       "'Democratic databases: science on GitHub.'"
      ]
     },
     "execution_count": 22,
     "metadata": {},
     "output_type": "execute_result"
    }
   ],
   "source": [
    "doi_data[\"result\"][uid][\"title\"]"
   ]
  },
  {
   "cell_type": "code",
   "execution_count": 23,
   "metadata": {},
   "outputs": [
    {
     "data": {
      "text/plain": [
       "'uid'"
      ]
     },
     "execution_count": 23,
     "metadata": {},
     "output_type": "execute_result"
    }
   ],
   "source": [
    "\"uid\""
   ]
  },
  {
   "cell_type": "code",
   "execution_count": 24,
   "metadata": {},
   "outputs": [
    {
     "data": {
      "text/plain": [
       "'27708327'"
      ]
     },
     "execution_count": 24,
     "metadata": {},
     "output_type": "execute_result"
    }
   ],
   "source": [
    "uid"
   ]
  },
  {
   "cell_type": "code",
   "execution_count": 25,
   "metadata": {},
   "outputs": [
    {
     "data": {
      "text/plain": [
       "'Democratic databases: science on GitHub.'"
      ]
     },
     "execution_count": 25,
     "metadata": {},
     "output_type": "execute_result"
    }
   ],
   "source": [
    "doi_data[\"result\"][pmid][\"title\"]"
   ]
  },
  {
   "cell_type": "code",
   "execution_count": 26,
   "metadata": {},
   "outputs": [
    {
     "data": {
      "text/plain": [
       "'2016 Oct 6'"
      ]
     },
     "execution_count": 26,
     "metadata": {},
     "output_type": "execute_result"
    }
   ],
   "source": [
    "doi_data[\"result\"][pmid][\"pubdate\"]"
   ]
  },
  {
   "cell_type": "code",
   "execution_count": 36,
   "metadata": {},
   "outputs": [],
   "source": [
    "pmids = [\"31452104\",\n",
    "        \"31437182\",\n",
    "        \"31455877\",\n",
    "        \"31535994\"]"
   ]
  },
  {
   "cell_type": "code",
   "execution_count": 37,
   "metadata": {},
   "outputs": [
    {
     "name": "stdout",
     "output_type": "stream",
     "text": [
      "Molegro Virtual Docker for Docking.\n",
      "2019\n",
      "TreeCluster: Clustering biological sequences using phylogenetic trees.\n",
      "2019\n",
      "Principles of open source bioinstrumentation applied to the poseidon syringe pump system.\n",
      "2019 Aug 27\n",
      "Aggregation Signature for Small Object Tracking.\n",
      "2019 Sep 16\n"
     ]
    }
   ],
   "source": [
    "for pmid in pmids:\n",
    "    full_url = base_url + pmid\n",
    "    doi_json_data = urllib.request.urlopen(full_url).read()\n",
    "    doi_data = json.loads(doi_json_data)\n",
    "    print(doi_data[\"result\"][pmid][\"title\"]) \n",
    "    print(doi_data[\"result\"][pmid][\"pubdate\"])"
   ]
  },
  {
   "cell_type": "code",
   "execution_count": 29,
   "metadata": {},
   "outputs": [
    {
     "name": "stdout",
     "output_type": "stream",
     "text": [
      "Molegro Virtual Docker for Docking.2019\n",
      "TreeCluster: Clustering biological sequences using phylogenetic trees.2019\n",
      "Principles of open source bioinstrumentation applied to the poseidon syringe pump system.2019 Aug 27\n",
      "Aggregation Signature for Small Object Tracking.2019 Sep 16\n"
     ]
    }
   ],
   "source": [
    "for pmid in pmids:\n",
    "    full_url = base_url + pmid\n",
    "    doi_json_data = urllib.request.urlopen(full_url).read()\n",
    "    doi_data = json.loads(doi_json_data)\n",
    "    print(doi_data[\"result\"][pmid][\"title\"] + doi_data[\"result\"][pmid][\"pubdate\"])"
   ]
  }
 ],
 "metadata": {
  "kernelspec": {
   "display_name": "Python 3",
   "language": "python",
   "name": "python3"
  },
  "language_info": {
   "codemirror_mode": {
    "name": "ipython",
    "version": 3
   },
   "file_extension": ".py",
   "mimetype": "text/x-python",
   "name": "python",
   "nbconvert_exporter": "python",
   "pygments_lexer": "ipython3",
   "version": "3.8.5"
  }
 },
 "nbformat": 4,
 "nbformat_minor": 4
}
